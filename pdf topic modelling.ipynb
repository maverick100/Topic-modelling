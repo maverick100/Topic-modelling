{
 "cells": [
  {
   "cell_type": "code",
   "execution_count": 34,
   "metadata": {},
   "outputs": [],
   "source": [
    "import pdftotext\n",
    "def pdf_to_text(path):\n",
    "    \n",
    "    with open(path,'rb') as f:\n",
    "\n",
    "        pdf=pdftotext.PDF(f)\n",
    "    fp=open('textfile.txt','w')\n",
    "    for page in pdf:\n",
    "        fp.write(page)\n",
    "    fp.close()   \n",
    "    "
   ]
  },
  {
   "cell_type": "code",
   "execution_count": 35,
   "metadata": {},
   "outputs": [],
   "source": [
    "pdf_to_text('/home/shahules/Downloads/doc_3Trademark_Transfer_Agreement.pdf')\n"
   ]
  },
  {
   "cell_type": "code",
   "execution_count": 36,
   "metadata": {},
   "outputs": [],
   "source": [
    "import pickle\n",
    "\n",
    "with open('textfile.txt','rb') as txt:\n",
    "    data=txt.read().decode('utf-8').splitlines()\n",
    "txt.close()\n",
    "\n",
    "    \n",
    "    "
   ]
  },
  {
   "cell_type": "code",
   "execution_count": 59,
   "metadata": {},
   "outputs": [
    {
     "data": {
      "text/plain": [
       "[' TRADEMARK AND DOMAIN NAME AGREEMENT',\n",
       " ' This agreement the Agreement is by and between ',\n",
       " ' Party and Eclipse Foundation Inc Eclipse and is effective as of ',\n",
       " ' the Effective Date ',\n",
       " ' WHEREAS Party is the owner of certain trademarks identified in Exhibit A the',\n",
       " ' Trademarks and of certain domain names identified in Exhibit A the Domain Names ',\n",
       " ' WHEREAS Party is desirous of Eclipse to initiate a project or working group with a',\n",
       " 'name based on the Trademark the Project Initiation ',\n",
       " ' WHEREAS to accommodate the Project Initiation Party desires to transfer all of Party s',\n",
       " 'rights title and interest in and to the Trademarks to Eclipse and to thereafter have certain',\n",
       " 'continuing usage rights of the Trademarks ',\n",
       " ' WHEREAS to accommodate the Project Initiation the Parties may mutually agree to',\n",
       " 'have any related Domain Names initially redirect to a URL designated by Eclipse and that the',\n",
       " 'Domain Names are subsequently transferred to Eclipse ',\n",
       " ' In consideration of the foregoing and for other good and valuable consideration the',\n",
       " 'receipt and sufficiency of which is hereby acknowledged the parties agree as follows ',\n",
       " ' Trademark Assignment Party irrevocably assigns grants and transfers to',\n",
       " 'Eclipse all of Party s right title and interest in and to the Trademarks including all common',\n",
       " 'law rights and any trademark registrations and applications along with the goodwill of the',\n",
       " 'business symbolized by use of the Trademarks and the right to sue third parties for and recover',\n",
       " 'damages from future infringement of the Trademarks the same to be held and enjoyed by',\n",
       " 'Eclipse for its own use and enjoyment and the use and enjoyment of its successors assigns or',\n",
       " 'other legal representatives as fully and entirely as the same would have been held and enjoyed',\n",
       " 'by Party if this assignment had not been made the Assignment ',\n",
       " ' To the extent that Party is seeking to perfect the ownership of the Trademarks and',\n",
       " 'Party s ownership of the Trademarks has not been perfected by the Effective Date Party agrees',\n",
       " 'to promptly assign ownership of the Trademarks to Eclipse in accordance with the terms of this',\n",
       " 'Agreement as soon as such ownership has been perfected Party further agrees to take all steps',\n",
       " 'necessary to promptly expedite any perfection of their ownership in and to the Trademarks ',\n",
       " 'Party hereby authorizes the Commissioner of Patents and Trademarks of the United States and',\n",
       " 'any official of any other country empowered to issue trademark registrations to record this',\n",
       " 'Assignment and to issue or transfer said Trademarks to Eclipse as owner of all right title and',\n",
       " 'interest therein or otherwise as Eclipse may direct in accordance with the terms of the',\n",
       " 'Assignment ',\n",
       " ' Trademark Usage Eclipse hereby confirms that Party shall have all applicable',\n",
       " 'rights to use the Trademarks in accordance with the then current version of the Guidelines for',\n",
       " 'Eclipse Logo and Trademarks currently available at ',\n",
       " ' Page of ',\n",
       " 'http www eclipse org legal logo guidelines php as may be amended from time to time the',\n",
       " ' Trademark Guidelines ',\n",
       " ' Domain Names Upon the mutual agreement of the Parties as of the date Eclipse',\n",
       " 'formally approves the Project the Project Effective Date Party shall cause any related',\n",
       " 'Domain Names including all sub domains and related URLs to redirect directly to the URLs',\n",
       " 'designated by Eclipse with no interstitial content Within ten days of the Project Effective',\n",
       " 'Date Party shall transfer to Eclipse Party s entire right title and interest to the Domain Names ',\n",
       " ' Execution and Delivery Upon Eclipse s request Party agrees that it will take',\n",
       " 'such actions and execute such documents including without limitation the prompt execution',\n",
       " 'and delivery of documents in recordable form or testifying as to any material fact or thing and',\n",
       " 'including the transfer of any domain names through appropriate communications with domain',\n",
       " 'name registrars as may be necessary to vest in and secure unto Eclipse the full right title and',\n",
       " 'interest in and to the Trademarks and Domain Names and to protect and enforce the Trademarks ',\n",
       " ' Representations and Warranties Party represents and warrants that Party has the',\n",
       " 'full right to convey the entire right title and interest herein assigned and that Party will not take',\n",
       " 'any action use any trademark or domain name or execute any instrument or grant or transfer',\n",
       " 'any rights title or interests inconsistent with the rights title and interests assigned herein ',\n",
       " ' Warranty Disclaimer PARTY MAKES NO WARRANTIES EXPRESS OR',\n",
       " 'IMPLIED TO ANY PERSON OR ENTITY WITH RESPECT TO THE TRADEMARKS OR',\n",
       " 'ANY RELATED MATERIALS PROVIDED HEREUNDER ALL OF WHICH ARE',\n",
       " 'PROVIDED AS IS AND DISCLAIMS ALL IMPLIED WARRANTIES INCLUDING',\n",
       " 'WITHOUT LIMITATION WARRANTIES OF MERCHANTABILITY FITNESS FOR A',\n",
       " 'PARTICULAR PURPOSE TITLE AND NONINFRINGEMENT ',\n",
       " ' Limitation of Liability IN NO EVENT WILL EITHER PARTY BE LIABLE',\n",
       " 'FOR ANY SPECIAL INCIDENTAL OR CONSEQUENTIAL DAMAGES ARISING FROM',\n",
       " 'OR RELATED TO THE USE OF THE TRADEMARKS EVEN IF ADVISED OF THE',\n",
       " 'POSSIBILITY OF SUCH DAMAGES ',\n",
       " ' Miscellaneous ',\n",
       " ' a Independent Contractors The parties hereto are independent contractors',\n",
       " ' and are not partners joint venturers or otherwise affiliated and neither',\n",
       " ' party has any right or authority to bind the other in any way ',\n",
       " ' b Assignment Eclipse may not assign this Agreement or any of its rights or',\n",
       " ' obligations under this Agreement without the prior written consent of',\n",
       " ' Party ',\n",
       " ' c Notices All notices requests demands and other communications',\n",
       " ' required or permitted to be given under this Agreement shall be in writing',\n",
       " ' and shall be deemed to have been duly given only if personally delivered ',\n",
       " ' delivered by a major commercial rapid delivery courier service with',\n",
       " ' tracking capabilities costs prepaid or mailed by certified or registered',\n",
       " ' Page of ',\n",
       " ' mail return receipt requested postage prepaid to a party at the address set',\n",
       " ' forth below or such other address as a party last provided to the other by',\n",
       " ' written notice ',\n",
       " 'If to Party ',\n",
       " ' ',\n",
       " ' ',\n",
       " 'If to Eclipse Eclipse Foundation Inc ',\n",
       " ' Centrepointe Drive',\n",
       " ' Ottawa Ontario',\n",
       " ' Canada K G B ',\n",
       " ' d Modification and Waiver The failure of either party to enforce its rights',\n",
       " ' or to require performance by the other party of any term or condition of',\n",
       " ' this Agreement shall not be construed as a waiver of such rights or of its',\n",
       " ' right to require future performance of that term or condition Any',\n",
       " ' amendment or modification of this Agreement or any waiver of any',\n",
       " ' breach of any term or condition of this Agreement must be in a writing',\n",
       " ' signed by both parties in order to be effective and shall not be construed as',\n",
       " ' a waiver of any continuing or succeeding breach of such term or',\n",
       " ' condition a waiver of the term or condition itself or a waiver of any right',\n",
       " ' under this Agreement ',\n",
       " ' e Governing Law This Agreement shall be governed and interpreted under',\n",
       " ' the laws of the State of New York without regard to the conflicts of law',\n",
       " ' provisions thereof ',\n",
       " ' f Headings Headings and captions are for convenience of reference only',\n",
       " ' and shall not be deemed to interpret supersede or modify any provisions',\n",
       " ' of this Agreement ',\n",
       " ' g Severability In the event that any provision of this Agreement shall be',\n",
       " ' determined by a court of competent jurisdiction to be illegal or',\n",
       " ' unenforceable that provision will be limited or eliminated to the minimum',\n",
       " ' extent necessary so that this Agreement shall otherwise remain in full',\n",
       " ' force and effect and enforceable ',\n",
       " ' h Entire Agreement Upon execution by both parties this Agreement shall',\n",
       " ' constitute the entire agreement between the parties with respect to the',\n",
       " ' subject matter hereof and supersedes all discussions negotiations ',\n",
       " ' agreements and past dealings either oral or written between or among the',\n",
       " ' parties relating to the subject matter hereof ',\n",
       " ' Page of ',\n",
       " ' i Non Exclusive Remedies The rights and remedies of a party set forth',\n",
       " ' herein are not exclusive the exercise thereof shall not constitute an',\n",
       " ' election of remedies and the aggrieved party shall in all events be entitled',\n",
       " ' to seek whatever additional remedies may be available in law or in equity ',\n",
       " 'Each party represents and warrants that it has full right power and authority to enter into this',\n",
       " 'Agreement and perform all of its obligations hereunder ',\n",
       " 'IN WITNESS WHEREOF the parties hereto have each caused this Agreement to be executed by',\n",
       " 'their authorized representatives ',\n",
       " 'COMPANY NAME ',\n",
       " 'Dated Signature ',\n",
       " ' Name ',\n",
       " ' Title ',\n",
       " 'ECLIPSE FOUNDATION INC ',\n",
       " 'Dated Signature ',\n",
       " ' Name ',\n",
       " ' Title ',\n",
       " ' Page of ',\n",
       " ' Exhibit A',\n",
       " ' Trademarks ',\n",
       " ' Registered',\n",
       " ' Reg No Jurisdiction Reg Date ',\n",
       " 'Mark Serial No Filing Date of',\n",
       " ' Registration',\n",
       " ' Unregistered',\n",
       " ' List all trademarks ',\n",
       " ' Domain Names ',\n",
       " ' List Domain Names to be transferred if any ',\n",
       " ' Page of ']"
      ]
     },
     "execution_count": 59,
     "metadata": {},
     "output_type": "execute_result"
    }
   ],
   "source": [
    "data_filtered"
   ]
  },
  {
   "cell_type": "code",
   "execution_count": 40,
   "metadata": {},
   "outputs": [],
   "source": [
    "import re\n",
    "data_filtered=[re.sub('[^a-zA-Z]+',' ',d) for d in data]"
   ]
  },
  {
   "cell_type": "code",
   "execution_count": 104,
   "metadata": {},
   "outputs": [],
   "source": [
    "import gensim\n",
    "from sklearn.feature_extraction.text import CountVectorizer\n",
    "\n",
    "vect=CountVectorizer(stop_words='english',ngram_range=(1,3))\n"
   ]
  },
  {
   "cell_type": "code",
   "execution_count": 105,
   "metadata": {},
   "outputs": [],
   "source": [
    "vectorized_data=vect.fit_transform(data_filtered)\n",
    "corpus=gensim.matutils.Sparse2Corpus(vectorized_data,documents_columns=False)\n",
    "id_map = dict((v, k) for k, v in vect.vocabulary_.items())"
   ]
  },
  {
   "cell_type": "code",
   "execution_count": 106,
   "metadata": {},
   "outputs": [],
   "source": [
    "ldamodel = gensim.models.ldamodel.LdaModel(corpus,id2word=id_map,num_topics=5,random_state=34,passes=25)\n"
   ]
  },
  {
   "cell_type": "code",
   "execution_count": 107,
   "metadata": {},
   "outputs": [
    {
     "data": {
      "text/plain": [
       "[(0,\n",
       "  '0.016*\"trademarks\" + 0.007*\"parties\" + 0.007*\"ownership\" + 0.007*\"ownership trademarks\" + 0.005*\"trademarks eclipse\" + 0.005*\"right\" + 0.005*\"promptly\"'),\n",
       " (1,\n",
       "  '0.013*\"agreement\" + 0.008*\"party\" + 0.008*\"eclipse\" + 0.007*\"parties\" + 0.007*\"shall\" + 0.007*\"date\" + 0.007*\"domain\"'),\n",
       " (2,\n",
       "  '0.014*\"party\" + 0.012*\"eclipse\" + 0.009*\"page\" + 0.007*\"agreement\" + 0.007*\"shall\" + 0.007*\"project\" + 0.005*\"trademark\"'),\n",
       " (3,\n",
       "  '0.013*\"party\" + 0.013*\"domain\" + 0.009*\"eclipse\" + 0.009*\"names\" + 0.009*\"domain names\" + 0.008*\"trademarks\" + 0.006*\"trademark\"'),\n",
       " (4,\n",
       "  '0.020*\"party\" + 0.013*\"title\" + 0.013*\"rights\" + 0.010*\"trademarks\" + 0.008*\"agreement\" + 0.008*\"waiver\" + 0.008*\"eclipse\"')]"
      ]
     },
     "execution_count": 107,
     "metadata": {},
     "output_type": "execute_result"
    }
   ],
   "source": [
    "ldamodel.print_topics(num_words=7)"
   ]
  },
  {
   "cell_type": "code",
   "execution_count": 92,
   "metadata": {},
   "outputs": [],
   "source": [
    "from sklearn.feature_extraction.text import TfidfVectorizer\n",
    "vect=TfidfVectorizer(ngram_range=(1,2),max_df=10)\n",
    "vectorized_data=vect.fit_transform(data_filtered)\n",
    "id_map=dict((v,k) for k,v in vect.vocabulary_.items())\n",
    "corpus=gensim.matutils.Sparse2Corpus(vectorized_data,documents_columns=False)"
   ]
  },
  {
   "cell_type": "code",
   "execution_count": 93,
   "metadata": {},
   "outputs": [
    {
     "data": {
      "text/plain": [
       "[(0,\n",
       "  '0.005*\"to party\" + 0.005*\"under this\" + 0.005*\"under\" + 0.004*\"if to\" + 0.004*\"if\"'),\n",
       " (1,\n",
       "  '0.006*\"unregistered\" + 0.006*\"canada\" + 0.004*\"notice\" + 0.004*\"written notice\" + 0.004*\"domain names\"'),\n",
       " (2,\n",
       "  '0.007*\"of this\" + 0.006*\"rights\" + 0.004*\"with the\" + 0.004*\"such\" + 0.004*\"continuing\"'),\n",
       " (3,\n",
       "  '0.015*\"title\" + 0.004*\"consideration\" + 0.004*\"right\" + 0.003*\"entire right\" + 0.003*\"and interest\"'),\n",
       " (4,\n",
       "  '0.007*\"dated signature\" + 0.007*\"dated\" + 0.007*\"signature\" + 0.006*\"miscellaneous\" + 0.006*\"registration\"'),\n",
       " (5,\n",
       "  '0.006*\"assignment\" + 0.006*\"registered\" + 0.006*\"domain names\" + 0.006*\"names\" + 0.004*\"trademark guidelines\"'),\n",
       " (6,\n",
       "  '0.022*\"page of\" + 0.022*\"page\" + 0.004*\"provisions thereof\" + 0.004*\"thereof\" + 0.004*\"provisions\"'),\n",
       " (7,\n",
       "  '0.007*\"exhibit\" + 0.004*\"all trademarks\" + 0.004*\"list all\" + 0.004*\"the project\" + 0.004*\"project\"'),\n",
       " (8,\n",
       "  '0.004*\"independent\" + 0.004*\"contractors\" + 0.004*\"independent contractors\" + 0.003*\"is\" + 0.003*\"filing date\"'),\n",
       " (9,\n",
       "  '0.016*\"name\" + 0.007*\"foundation inc\" + 0.007*\"inc\" + 0.007*\"foundation\" + 0.007*\"eclipse foundation\"')]"
      ]
     },
     "execution_count": 93,
     "metadata": {},
     "output_type": "execute_result"
    }
   ],
   "source": [
    "ldamodel=gensim.models.ldamodel.LdaModel(corpus=corpus,id2word=id_map,num_topics=10,random_state=34,passes=25)\n",
    "ldamodel.print_topics(num_words=5)"
   ]
  },
  {
   "cell_type": "code",
   "execution_count": 89,
   "metadata": {},
   "outputs": [],
   "source": [
    "corpus?"
   ]
  },
  {
   "cell_type": "code",
   "execution_count": 95,
   "metadata": {},
   "outputs": [],
   "source": [
    "vect?"
   ]
  },
  {
   "cell_type": "code",
   "execution_count": null,
   "metadata": {},
   "outputs": [],
   "source": []
  }
 ],
 "metadata": {
  "kernelspec": {
   "display_name": "Python 3",
   "language": "python",
   "name": "python3"
  },
  "language_info": {
   "codemirror_mode": {
    "name": "ipython",
    "version": 3
   },
   "file_extension": ".py",
   "mimetype": "text/x-python",
   "name": "python",
   "nbconvert_exporter": "python",
   "pygments_lexer": "ipython3",
   "version": "3.5.3"
  }
 },
 "nbformat": 4,
 "nbformat_minor": 2
}
